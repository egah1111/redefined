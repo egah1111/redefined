{
 "cells": [
  {
   "cell_type": "markdown",
   "id": "00d9bc59",
   "metadata": {},
   "source": [
    "# 2018 NIGERIAN GRADUATE EXPLORATIVE ANALYSIS"
   ]
  },
  {
   "cell_type": "markdown",
   "id": "10121551",
   "metadata": {},
   "source": [
    "## Data and Set Up"
   ]
  },
  {
   "cell_type": "code",
   "execution_count": 82,
   "id": "12f3eaae",
   "metadata": {},
   "outputs": [],
   "source": [
    "# Import libraries\n",
    "import pandas as pd\n",
    "\n",
    "# Import visualization libraries\n",
    "import matplotlib.pyplot as plt\n",
    "import seaborn as sns"
   ]
  },
  {
   "cell_type": "code",
   "execution_count": 83,
   "id": "824a04b6",
   "metadata": {},
   "outputs": [],
   "source": [
    "# Read data\n",
    "df = pd.read_csv(r\"C:\\Users\\USER\\Downloads\\nigerian_graduates_survey_2018.csv\")"
   ]
  },
  {
   "cell_type": "code",
   "execution_count": 84,
   "id": "653e65a5",
   "metadata": {},
   "outputs": [
    {
     "name": "stdout",
     "output_type": "stream",
     "text": [
      "<class 'pandas.core.frame.DataFrame'>\n",
      "RangeIndex: 5219 entries, 0 to 5218\n",
      "Data columns (total 36 columns):\n",
      " #   Column                                                                                                                        Non-Null Count  Dtype  \n",
      "---  ------                                                                                                                        --------------  -----  \n",
      " 0   Timestamp                                                                                                                     5219 non-null   object \n",
      " 1   What is your gender                                                                                                           5219 non-null   object \n",
      " 2   Year of graduation                                                                                                            5219 non-null   int64  \n",
      " 3   Title of course studied                                                                                                       5219 non-null   object \n",
      " 4   Polytechnic/University attended                                                                                               5219 non-null   object \n",
      " 5   What is your highest level of education?                                                                                      5219 non-null   object \n",
      " 6   What best describes your current status?                                                                                      5219 non-null   object \n",
      " 7   How many jobs have you had since graduation including your current one?                                                       5219 non-null   int64  \n",
      " 8   Have you completed your NYSC?                                                                                                 5218 non-null   object \n",
      " 9   If you answered yes/ongoing to the previous question, what year did you (or will you) complete your NYSC?                     4278 non-null   float64\n",
      " 10  Did you get your first full time job through your NYSC placement?                                                             5218 non-null   object \n",
      " 11  Thinking about your first employment after graduation, what was your job level?                                               1656 non-null   object \n",
      " 12  What is/was your job role?                                                                                                    1654 non-null   object \n",
      " 13  What sector/industry is your company in? (E.g. Banking, Agriculture, Telecommunication)                                       1656 non-null   object \n",
      " 14  Still thinking about your first employment, what is/was your monthly income level?                                            1656 non-null   object \n",
      " 15  Did you need your higher education qualification to get your first job (the actual qualification, not the subject of study)?  1656 non-null   object \n",
      " 16  What was the most significant reason for deciding to take your first job?                                                     1656 non-null   object \n",
      " 17  Thinking about your current employment, what is your job level?                                                               3432 non-null   object \n",
      " 18  What is your job role?                                                                                                        3431 non-null   object \n",
      " 19  What sector/industry is your company in? (E.g. Banking, Agriculture, Telecommunication).1                                     3432 non-null   object \n",
      " 20  What is your current monthly income level?                                                                                    3432 non-null   object \n",
      " 21  Did you need your higher education qualification to get this job (the actual qualification, not the subject of study)?        3431 non-null   object \n",
      " 22  What was the most significant reason for deciding to take this job?                                                           3432 non-null   object \n",
      " 23  Which employer in the country do you think offers the best opportunities for graduates?                                       2958 non-null   object \n",
      " 24  Reason why?                                                                                                                   3109 non-null   object \n",
      " 25  Which sector is your most preferred sector to work in?                                                                        3297 non-null   object \n",
      " 26  What currency are you currently paid in?                                                                                      3432 non-null   object \n",
      " 27  Approximately how many hours a day do you currently work?                                                                     3432 non-null   float64\n",
      " 28  As far as you are aware, what was most important to your current employer about your qualification?                           3432 non-null   object \n",
      " 29  How do you find out about your job(s)?                                                                                        3432 non-null   object \n",
      " 30  Thinking about your current employment, did you work for your employer before or during your  higher education study?         3432 non-null   object \n",
      " 31  Which form of transport do you use the most?                                                                                  3432 non-null   object \n",
      " 32  Were you able to rent an apartment or buy a car from the salary you got from your first job?                                  3432 non-null   object \n",
      " 33  My course of study prepared me well for employment                                                                            3432 non-null   object \n",
      " 34  My course of study prepared me well for further studies                                                                       3432 non-null   object \n",
      " 35  Which of these skills/knowledge did your higher education prepare you for?                                                    3432 non-null   object \n",
      "dtypes: float64(2), int64(2), object(32)\n",
      "memory usage: 1.4+ MB\n"
     ]
    }
   ],
   "source": [
    "# Check dataframe info\n",
    "df.info()"
   ]
  },
  {
   "cell_type": "code",
   "execution_count": 85,
   "id": "2a80e76d",
   "metadata": {},
   "outputs": [
    {
     "data": {
      "text/html": [
       "<div>\n",
       "<style scoped>\n",
       "    .dataframe tbody tr th:only-of-type {\n",
       "        vertical-align: middle;\n",
       "    }\n",
       "\n",
       "    .dataframe tbody tr th {\n",
       "        vertical-align: top;\n",
       "    }\n",
       "\n",
       "    .dataframe thead th {\n",
       "        text-align: right;\n",
       "    }\n",
       "</style>\n",
       "<table border=\"1\" class=\"dataframe\">\n",
       "  <thead>\n",
       "    <tr style=\"text-align: right;\">\n",
       "      <th></th>\n",
       "      <th>Timestamp</th>\n",
       "      <th>What is your gender</th>\n",
       "      <th>Year of graduation</th>\n",
       "      <th>Title of course studied</th>\n",
       "      <th>Polytechnic/University attended</th>\n",
       "      <th>What is your highest level of education?</th>\n",
       "      <th>What best describes your current status?</th>\n",
       "      <th>How many jobs have you had since graduation including your current one?</th>\n",
       "      <th>Have you completed your NYSC?</th>\n",
       "      <th>If you answered yes/ongoing to the previous question, what year did you (or will you) complete your NYSC?</th>\n",
       "      <th>...</th>\n",
       "      <th>What currency are you currently paid in?</th>\n",
       "      <th>Approximately how many hours a day do you currently work?</th>\n",
       "      <th>As far as you are aware, what was most important to your current employer about your qualification?</th>\n",
       "      <th>How do you find out about your job(s)?</th>\n",
       "      <th>Thinking about your current employment, did you work for your employer before or during your  higher education study?</th>\n",
       "      <th>Which form of transport do you use the most?</th>\n",
       "      <th>Were you able to rent an apartment or buy a car from the salary you got from your first job?</th>\n",
       "      <th>My course of study prepared me well for employment</th>\n",
       "      <th>My course of study prepared me well for further studies</th>\n",
       "      <th>Which of these skills/knowledge did your higher education prepare you for?</th>\n",
       "    </tr>\n",
       "  </thead>\n",
       "  <tbody>\n",
       "    <tr>\n",
       "      <th>0</th>\n",
       "      <td>2/8/2018 9:05:23</td>\n",
       "      <td>Male</td>\n",
       "      <td>2013</td>\n",
       "      <td>Electrical &amp; Electronic Engineering</td>\n",
       "      <td>Obafemi Awolowo University,Ile-Ife</td>\n",
       "      <td>Bachelor's degree</td>\n",
       "      <td>Working full time (paid employment)</td>\n",
       "      <td>3</td>\n",
       "      <td>NaN</td>\n",
       "      <td>NaN</td>\n",
       "      <td>...</td>\n",
       "      <td>Naira</td>\n",
       "      <td>8.0</td>\n",
       "      <td>No one thing was important</td>\n",
       "      <td>Internship</td>\n",
       "      <td>No</td>\n",
       "      <td>Bus</td>\n",
       "      <td>Yes: From my first job</td>\n",
       "      <td>No</td>\n",
       "      <td>No</td>\n",
       "      <td>Critical thinking skills, Ability to solve com...</td>\n",
       "    </tr>\n",
       "    <tr>\n",
       "      <th>1</th>\n",
       "      <td>2/15/2018 12:11:32</td>\n",
       "      <td>Male</td>\n",
       "      <td>2014</td>\n",
       "      <td>Psychology</td>\n",
       "      <td>Obafemi Awolowo University,Ile-Ife</td>\n",
       "      <td>Bachelor's degree</td>\n",
       "      <td>Working full time (paid employment)</td>\n",
       "      <td>2</td>\n",
       "      <td>Yes</td>\n",
       "      <td>2017.0</td>\n",
       "      <td>...</td>\n",
       "      <td>Naira</td>\n",
       "      <td>8.0</td>\n",
       "      <td>IT/SIWES/Internship experience (gained as part...</td>\n",
       "      <td>Internship</td>\n",
       "      <td>No</td>\n",
       "      <td>BRT</td>\n",
       "      <td>No: From my current job</td>\n",
       "      <td>Strongly Disagree</td>\n",
       "      <td>Agree</td>\n",
       "      <td>Critical thinking skills, Ability to solve com...</td>\n",
       "    </tr>\n",
       "    <tr>\n",
       "      <th>2</th>\n",
       "      <td>2/15/2018 13:47:10</td>\n",
       "      <td>Female</td>\n",
       "      <td>2013</td>\n",
       "      <td>Economics</td>\n",
       "      <td>Bells University of Technology, Otta</td>\n",
       "      <td>Bachelor's degree</td>\n",
       "      <td>Working full time (paid employment)</td>\n",
       "      <td>2</td>\n",
       "      <td>Yes</td>\n",
       "      <td>NaN</td>\n",
       "      <td>...</td>\n",
       "      <td>Naira</td>\n",
       "      <td>14.0</td>\n",
       "      <td>The subject(s) I studied</td>\n",
       "      <td>Employer's website</td>\n",
       "      <td>No</td>\n",
       "      <td>Uber/Taxify/Taxi services</td>\n",
       "      <td>No: From my current job</td>\n",
       "      <td>Disagree</td>\n",
       "      <td>Agree</td>\n",
       "      <td>Ability to work with others, Written communica...</td>\n",
       "    </tr>\n",
       "    <tr>\n",
       "      <th>3</th>\n",
       "      <td>2/16/2018 13:01:34</td>\n",
       "      <td>Male</td>\n",
       "      <td>2017</td>\n",
       "      <td>Mass Communication (Communication and Language...</td>\n",
       "      <td>Bowen University, Iwo</td>\n",
       "      <td>Master's degree</td>\n",
       "      <td>Self-employed/freelance/entrepreneur</td>\n",
       "      <td>0</td>\n",
       "      <td>Yes</td>\n",
       "      <td>NaN</td>\n",
       "      <td>...</td>\n",
       "      <td>NaN</td>\n",
       "      <td>NaN</td>\n",
       "      <td>NaN</td>\n",
       "      <td>NaN</td>\n",
       "      <td>NaN</td>\n",
       "      <td>NaN</td>\n",
       "      <td>NaN</td>\n",
       "      <td>NaN</td>\n",
       "      <td>NaN</td>\n",
       "      <td>NaN</td>\n",
       "    </tr>\n",
       "    <tr>\n",
       "      <th>4</th>\n",
       "      <td>2/16/2018 13:18:03</td>\n",
       "      <td>Female</td>\n",
       "      <td>2013</td>\n",
       "      <td>Statistics</td>\n",
       "      <td>Ekiti State University</td>\n",
       "      <td>Bachelor's degree</td>\n",
       "      <td>Working full time (paid employment)</td>\n",
       "      <td>3</td>\n",
       "      <td>Yes</td>\n",
       "      <td>2016.0</td>\n",
       "      <td>...</td>\n",
       "      <td>Naira</td>\n",
       "      <td>8.0</td>\n",
       "      <td>IT/SIWES/Internship experience (gained as part...</td>\n",
       "      <td>Personal contacts, including family and friends</td>\n",
       "      <td>No</td>\n",
       "      <td>Commercial Vehicles</td>\n",
       "      <td>No</td>\n",
       "      <td>Agree</td>\n",
       "      <td>Agree</td>\n",
       "      <td>Critical thinking skills</td>\n",
       "    </tr>\n",
       "  </tbody>\n",
       "</table>\n",
       "<p>5 rows × 36 columns</p>\n",
       "</div>"
      ],
      "text/plain": [
       "            Timestamp What is your gender  Year of graduation  \\\n",
       "0    2/8/2018 9:05:23                Male                2013   \n",
       "1  2/15/2018 12:11:32                Male                2014   \n",
       "2  2/15/2018 13:47:10              Female                2013   \n",
       "3  2/16/2018 13:01:34                Male                2017   \n",
       "4  2/16/2018 13:18:03              Female                2013   \n",
       "\n",
       "                             Title of course studied  \\\n",
       "0                Electrical & Electronic Engineering   \n",
       "1                                         Psychology   \n",
       "2                                          Economics   \n",
       "3  Mass Communication (Communication and Language...   \n",
       "4                                         Statistics   \n",
       "\n",
       "        Polytechnic/University attended  \\\n",
       "0    Obafemi Awolowo University,Ile-Ife   \n",
       "1    Obafemi Awolowo University,Ile-Ife   \n",
       "2  Bells University of Technology, Otta   \n",
       "3                 Bowen University, Iwo   \n",
       "4                Ekiti State University   \n",
       "\n",
       "  What is your highest level of education?  \\\n",
       "0                        Bachelor's degree   \n",
       "1                        Bachelor's degree   \n",
       "2                        Bachelor's degree   \n",
       "3                          Master's degree   \n",
       "4                        Bachelor's degree   \n",
       "\n",
       "  What best describes your current status?  \\\n",
       "0      Working full time (paid employment)   \n",
       "1      Working full time (paid employment)   \n",
       "2      Working full time (paid employment)   \n",
       "3     Self-employed/freelance/entrepreneur   \n",
       "4      Working full time (paid employment)   \n",
       "\n",
       "   How many jobs have you had since graduation including your current one?  \\\n",
       "0                                                  3                         \n",
       "1                                                  2                         \n",
       "2                                                  2                         \n",
       "3                                                  0                         \n",
       "4                                                  3                         \n",
       "\n",
       "  Have you completed your NYSC?  \\\n",
       "0                           NaN   \n",
       "1                           Yes   \n",
       "2                           Yes   \n",
       "3                           Yes   \n",
       "4                           Yes   \n",
       "\n",
       "   If you answered yes/ongoing to the previous question, what year did you (or will you) complete your NYSC?  \\\n",
       "0                                                NaN                                                           \n",
       "1                                             2017.0                                                           \n",
       "2                                                NaN                                                           \n",
       "3                                                NaN                                                           \n",
       "4                                             2016.0                                                           \n",
       "\n",
       "   ... What currency are you currently paid in?  \\\n",
       "0  ...                                    Naira   \n",
       "1  ...                                    Naira   \n",
       "2  ...                                    Naira   \n",
       "3  ...                                      NaN   \n",
       "4  ...                                    Naira   \n",
       "\n",
       "  Approximately how many hours a day do you currently work?  \\\n",
       "0                                                8.0          \n",
       "1                                                8.0          \n",
       "2                                               14.0          \n",
       "3                                                NaN          \n",
       "4                                                8.0          \n",
       "\n",
       "  As far as you are aware, what was most important to your current employer about your qualification?  \\\n",
       "0                         No one thing was important                                                    \n",
       "1  IT/SIWES/Internship experience (gained as part...                                                    \n",
       "2                           The subject(s) I studied                                                    \n",
       "3                                                NaN                                                    \n",
       "4  IT/SIWES/Internship experience (gained as part...                                                    \n",
       "\n",
       "            How do you find out about your job(s)?  \\\n",
       "0                                       Internship   \n",
       "1                                       Internship   \n",
       "2                               Employer's website   \n",
       "3                                              NaN   \n",
       "4  Personal contacts, including family and friends   \n",
       "\n",
       "  Thinking about your current employment, did you work for your employer before or during your  higher education study?  \\\n",
       "0                                                 No                                                                      \n",
       "1                                                 No                                                                      \n",
       "2                                                 No                                                                      \n",
       "3                                                NaN                                                                      \n",
       "4                                                 No                                                                      \n",
       "\n",
       "  Which form of transport do you use the most?  \\\n",
       "0                                          Bus   \n",
       "1                                          BRT   \n",
       "2                    Uber/Taxify/Taxi services   \n",
       "3                                          NaN   \n",
       "4                          Commercial Vehicles   \n",
       "\n",
       "  Were you able to rent an apartment or buy a car from the salary you got from your first job?  \\\n",
       "0                             Yes: From my first job                                             \n",
       "1                            No: From my current job                                             \n",
       "2                            No: From my current job                                             \n",
       "3                                                NaN                                             \n",
       "4                                                 No                                             \n",
       "\n",
       "  My course of study prepared me well for employment  \\\n",
       "0                                                 No   \n",
       "1                                  Strongly Disagree   \n",
       "2                                           Disagree   \n",
       "3                                                NaN   \n",
       "4                                              Agree   \n",
       "\n",
       "  My course of study prepared me well for further studies  \\\n",
       "0                                                 No        \n",
       "1                                              Agree        \n",
       "2                                              Agree        \n",
       "3                                                NaN        \n",
       "4                                              Agree        \n",
       "\n",
       "  Which of these skills/knowledge did your higher education prepare you for?  \n",
       "0  Critical thinking skills, Ability to solve com...                          \n",
       "1  Critical thinking skills, Ability to solve com...                          \n",
       "2  Ability to work with others, Written communica...                          \n",
       "3                                                NaN                          \n",
       "4                           Critical thinking skills                          \n",
       "\n",
       "[5 rows x 36 columns]"
      ]
     },
     "execution_count": 85,
     "metadata": {},
     "output_type": "execute_result"
    }
   ],
   "source": [
    "# Viewing dataframe head\n",
    "df.head()"
   ]
  },
  {
   "cell_type": "code",
   "execution_count": null,
   "id": "39c956d5",
   "metadata": {},
   "outputs": [],
   "source": []
  },
  {
   "cell_type": "markdown",
   "id": "06b828f4",
   "metadata": {},
   "source": [
    "# Arranging and Cleaning Data"
   ]
  },
  {
   "cell_type": "code",
   "execution_count": 86,
   "id": "6da022c6",
   "metadata": {},
   "outputs": [],
   "source": [
    "# Renaming column names"
   ]
  },
  {
   "cell_type": "code",
   "execution_count": 87,
   "id": "43422fc1",
   "metadata": {},
   "outputs": [],
   "source": [
    "mapper = {'What is your gender': 'Gender', \n",
    "          'Year of graduation': 'Graduation_year', \n",
    "          'Title of course studied': 'Course',\n",
    "         'Polytechnic/University attended': 'Name_of_Institution',\n",
    "          'What is your highest level of education?': 'Highest_Education_Level',\n",
    "          'What best describes your current status?': 'Current_Status', \n",
    "          'How many jobs have you had since graduation including your current one?':'No_of_job_since_graduation',\n",
    "         'Have you completed your NYSC?':'NYSC_Status',\n",
    "          'If you answered yes/ongoing to the previous question, what year did you (or will you) complete your NYSC?': 'NYSC_Completion_Year',\n",
    "          'Did you get your first full time job through your NYSC placement?': 'Job_Through_NYSC',\n",
    "          'Thinking about your first employment after graduation, what was your job level?': 'Job_Level',\n",
    "          'What is/was your job role?': 'Job_Role',\n",
    "          'What sector/industry is your company in? (E.g. Banking, Agriculture, Telecommunication)': 'Employer_Industry_Sector',\n",
    "          'Still thinking about your first employment, what is/was your monthly income level?': 'Monthly_Income_Level',\n",
    "          'Did you need your higher education qualification to get your first job (the actual qualification, not the subject of study)?': 'Higher_Education_Qualification_Relevance_to_Job',\n",
    "          'What was the most significant reason for deciding to take your first job?': 'Reason_to_take_First_Job',\n",
    "          'Which employer in the country do you think offers the best opportunities for graduates?': 'Best_Employer_For_Graduates',\n",
    "          'Reason why?': 'Reason_for_Best_Employer',\n",
    "          'Which sector is your most preferred sector to work in?': 'Preferred_Industry_Sector',\n",
    "          'What currency are you currently paid in?': 'Salary_Currency',\n",
    "          'As far as you are aware, what was most important to your current employer about your qualification?': 'Employer_Desired_Traits',\n",
    "          'How do you find out about your job(s)?': 'Job_Discovery_Means',\n",
    "          'Thinking about your current employment, did you work for your employer before or during your  higher education study?': 'Employed_before_Higher_Education_Degree',\n",
    "          'Which form of transport do you use the most?': 'Transport_Means',\n",
    "          'Were you able to rent an apartment or buy a car from the salary you got from your first job?': 'Car/Apartment_From_First_Job',\n",
    "          'My course of study prepared me well for employment': 'Course_Relevance_to_Employment',\n",
    "          'My course of study prepared me well for further studies': 'Course_Relevance_to_Further_Studies',\n",
    "          'Which of these skills/knowledge did your higher education prepare you for?': 'Skills_from_Higher_Education'\n",
    "          }\n",
    "df.rename(columns = mapper, inplace = True)"
   ]
  },
  {
   "cell_type": "code",
   "execution_count": 88,
   "id": "f9a0ef71",
   "metadata": {},
   "outputs": [],
   "source": [
    "# Deleting Duplicated Columns"
   ]
  },
  {
   "cell_type": "code",
   "execution_count": 89,
   "id": "613ef485",
   "metadata": {},
   "outputs": [],
   "source": [
    "df.drop(columns = ['Thinking about your current employment, what is your job level?',\n",
    "                   'What sector/industry is your company in? (E.g. Banking, Agriculture, Telecommunication).1',\n",
    "                  'What is your current monthly income level?',\n",
    "                  'Did you need your higher education qualification to get this job (the actual qualification, not the subject of study)?',\n",
    "                  'What was the most significant reason for deciding to take this job?',\n",
    "                  'Approximately how many hours a day do you currently work?',], inplace = True)"
   ]
  },
  {
   "cell_type": "code",
   "execution_count": 90,
   "id": "cc95fa31",
   "metadata": {},
   "outputs": [
    {
     "name": "stdout",
     "output_type": "stream",
     "text": [
      "<class 'pandas.core.frame.DataFrame'>\n",
      "RangeIndex: 5219 entries, 0 to 5218\n",
      "Data columns (total 30 columns):\n",
      " #   Column                                           Non-Null Count  Dtype  \n",
      "---  ------                                           --------------  -----  \n",
      " 0   Timestamp                                        5219 non-null   object \n",
      " 1   Gender                                           5219 non-null   object \n",
      " 2   Graduation_year                                  5219 non-null   int64  \n",
      " 3   Course                                           5219 non-null   object \n",
      " 4   Name_of_Institution                              5219 non-null   object \n",
      " 5   Highest_Education_Level                          5219 non-null   object \n",
      " 6   Current_Status                                   5219 non-null   object \n",
      " 7   No_of_job_since_graduation                       5219 non-null   int64  \n",
      " 8   NYSC_Status                                      5218 non-null   object \n",
      " 9   NYSC_Completion_Year                             4278 non-null   float64\n",
      " 10  Job_Through_NYSC                                 5218 non-null   object \n",
      " 11  Job_Level                                        1656 non-null   object \n",
      " 12  Job_Role                                         1654 non-null   object \n",
      " 13  Employer_Industry_Sector                         1656 non-null   object \n",
      " 14  Monthly_Income_Level                             1656 non-null   object \n",
      " 15  Higher_Education_Qualification_Relevance_to_Job  1656 non-null   object \n",
      " 16  Reason_to_take_First_Job                         1656 non-null   object \n",
      " 17  What is your job role?                           3431 non-null   object \n",
      " 18  Best_Employer_For_Graduates                      2958 non-null   object \n",
      " 19  Reason_for_Best_Employer                         3109 non-null   object \n",
      " 20  Preferred_Industry_Sector                        3297 non-null   object \n",
      " 21  Salary_Currency                                  3432 non-null   object \n",
      " 22  Employer_Desired_Traits                          3432 non-null   object \n",
      " 23  Job_Discovery_Means                              3432 non-null   object \n",
      " 24  Employed_before_Higher_Education_Degree          3432 non-null   object \n",
      " 25  Transport_Means                                  3432 non-null   object \n",
      " 26  Car/Apartment_From_First_Job                     3432 non-null   object \n",
      " 27  Course_Relevance_to_Employment                   3432 non-null   object \n",
      " 28  Course_Relevance_to_Further_Studies              3432 non-null   object \n",
      " 29  Skills_from_Higher_Education                     3432 non-null   object \n",
      "dtypes: float64(1), int64(2), object(27)\n",
      "memory usage: 1.2+ MB\n"
     ]
    }
   ],
   "source": [
    "# Refined dataframe info\n",
    "df.info()"
   ]
  },
  {
   "cell_type": "code",
   "execution_count": 91,
   "id": "82eeceae",
   "metadata": {},
   "outputs": [
    {
     "data": {
      "text/html": [
       "<div>\n",
       "<style scoped>\n",
       "    .dataframe tbody tr th:only-of-type {\n",
       "        vertical-align: middle;\n",
       "    }\n",
       "\n",
       "    .dataframe tbody tr th {\n",
       "        vertical-align: top;\n",
       "    }\n",
       "\n",
       "    .dataframe thead th {\n",
       "        text-align: right;\n",
       "    }\n",
       "</style>\n",
       "<table border=\"1\" class=\"dataframe\">\n",
       "  <thead>\n",
       "    <tr style=\"text-align: right;\">\n",
       "      <th></th>\n",
       "      <th>Timestamp</th>\n",
       "      <th>Gender</th>\n",
       "      <th>Graduation_year</th>\n",
       "      <th>Course</th>\n",
       "      <th>Name_of_Institution</th>\n",
       "      <th>Highest_Education_Level</th>\n",
       "      <th>Current_Status</th>\n",
       "      <th>No_of_job_since_graduation</th>\n",
       "      <th>NYSC_Status</th>\n",
       "      <th>NYSC_Completion_Year</th>\n",
       "      <th>...</th>\n",
       "      <th>Preferred_Industry_Sector</th>\n",
       "      <th>Salary_Currency</th>\n",
       "      <th>Employer_Desired_Traits</th>\n",
       "      <th>Job_Discovery_Means</th>\n",
       "      <th>Employed_before_Higher_Education_Degree</th>\n",
       "      <th>Transport_Means</th>\n",
       "      <th>Car/Apartment_From_First_Job</th>\n",
       "      <th>Course_Relevance_to_Employment</th>\n",
       "      <th>Course_Relevance_to_Further_Studies</th>\n",
       "      <th>Skills_from_Higher_Education</th>\n",
       "    </tr>\n",
       "  </thead>\n",
       "  <tbody>\n",
       "    <tr>\n",
       "      <th>0</th>\n",
       "      <td>2/8/2018 9:05:23</td>\n",
       "      <td>Male</td>\n",
       "      <td>2013</td>\n",
       "      <td>Electrical &amp; Electronic Engineering</td>\n",
       "      <td>Obafemi Awolowo University,Ile-Ife</td>\n",
       "      <td>Bachelor's degree</td>\n",
       "      <td>Working full time (paid employment)</td>\n",
       "      <td>3</td>\n",
       "      <td>NaN</td>\n",
       "      <td>NaN</td>\n",
       "      <td>...</td>\n",
       "      <td>Engineering</td>\n",
       "      <td>Naira</td>\n",
       "      <td>No one thing was important</td>\n",
       "      <td>Internship</td>\n",
       "      <td>No</td>\n",
       "      <td>Bus</td>\n",
       "      <td>Yes: From my first job</td>\n",
       "      <td>No</td>\n",
       "      <td>No</td>\n",
       "      <td>Critical thinking skills, Ability to solve com...</td>\n",
       "    </tr>\n",
       "    <tr>\n",
       "      <th>1</th>\n",
       "      <td>2/15/2018 12:11:32</td>\n",
       "      <td>Male</td>\n",
       "      <td>2014</td>\n",
       "      <td>Psychology</td>\n",
       "      <td>Obafemi Awolowo University,Ile-Ife</td>\n",
       "      <td>Bachelor's degree</td>\n",
       "      <td>Working full time (paid employment)</td>\n",
       "      <td>2</td>\n",
       "      <td>Yes</td>\n",
       "      <td>2017.0</td>\n",
       "      <td>...</td>\n",
       "      <td>Media</td>\n",
       "      <td>Naira</td>\n",
       "      <td>IT/SIWES/Internship experience (gained as part...</td>\n",
       "      <td>Internship</td>\n",
       "      <td>No</td>\n",
       "      <td>BRT</td>\n",
       "      <td>No: From my current job</td>\n",
       "      <td>Strongly Disagree</td>\n",
       "      <td>Agree</td>\n",
       "      <td>Critical thinking skills, Ability to solve com...</td>\n",
       "    </tr>\n",
       "    <tr>\n",
       "      <th>2</th>\n",
       "      <td>2/15/2018 13:47:10</td>\n",
       "      <td>Female</td>\n",
       "      <td>2013</td>\n",
       "      <td>Economics</td>\n",
       "      <td>Bells University of Technology, Otta</td>\n",
       "      <td>Bachelor's degree</td>\n",
       "      <td>Working full time (paid employment)</td>\n",
       "      <td>2</td>\n",
       "      <td>Yes</td>\n",
       "      <td>NaN</td>\n",
       "      <td>...</td>\n",
       "      <td>Consulting</td>\n",
       "      <td>Naira</td>\n",
       "      <td>The subject(s) I studied</td>\n",
       "      <td>Employer's website</td>\n",
       "      <td>No</td>\n",
       "      <td>Uber/Taxify/Taxi services</td>\n",
       "      <td>No: From my current job</td>\n",
       "      <td>Disagree</td>\n",
       "      <td>Agree</td>\n",
       "      <td>Ability to work with others, Written communica...</td>\n",
       "    </tr>\n",
       "    <tr>\n",
       "      <th>3</th>\n",
       "      <td>2/16/2018 13:01:34</td>\n",
       "      <td>Male</td>\n",
       "      <td>2017</td>\n",
       "      <td>Mass Communication (Communication and Language...</td>\n",
       "      <td>Bowen University, Iwo</td>\n",
       "      <td>Master's degree</td>\n",
       "      <td>Self-employed/freelance/entrepreneur</td>\n",
       "      <td>0</td>\n",
       "      <td>Yes</td>\n",
       "      <td>NaN</td>\n",
       "      <td>...</td>\n",
       "      <td>NaN</td>\n",
       "      <td>NaN</td>\n",
       "      <td>NaN</td>\n",
       "      <td>NaN</td>\n",
       "      <td>NaN</td>\n",
       "      <td>NaN</td>\n",
       "      <td>NaN</td>\n",
       "      <td>NaN</td>\n",
       "      <td>NaN</td>\n",
       "      <td>NaN</td>\n",
       "    </tr>\n",
       "    <tr>\n",
       "      <th>4</th>\n",
       "      <td>2/16/2018 13:18:03</td>\n",
       "      <td>Female</td>\n",
       "      <td>2013</td>\n",
       "      <td>Statistics</td>\n",
       "      <td>Ekiti State University</td>\n",
       "      <td>Bachelor's degree</td>\n",
       "      <td>Working full time (paid employment)</td>\n",
       "      <td>3</td>\n",
       "      <td>Yes</td>\n",
       "      <td>2016.0</td>\n",
       "      <td>...</td>\n",
       "      <td>Advertising / Marketing / Comms</td>\n",
       "      <td>Naira</td>\n",
       "      <td>IT/SIWES/Internship experience (gained as part...</td>\n",
       "      <td>Personal contacts, including family and friends</td>\n",
       "      <td>No</td>\n",
       "      <td>Commercial Vehicles</td>\n",
       "      <td>No</td>\n",
       "      <td>Agree</td>\n",
       "      <td>Agree</td>\n",
       "      <td>Critical thinking skills</td>\n",
       "    </tr>\n",
       "  </tbody>\n",
       "</table>\n",
       "<p>5 rows × 30 columns</p>\n",
       "</div>"
      ],
      "text/plain": [
       "            Timestamp  Gender  Graduation_year  \\\n",
       "0    2/8/2018 9:05:23    Male             2013   \n",
       "1  2/15/2018 12:11:32    Male             2014   \n",
       "2  2/15/2018 13:47:10  Female             2013   \n",
       "3  2/16/2018 13:01:34    Male             2017   \n",
       "4  2/16/2018 13:18:03  Female             2013   \n",
       "\n",
       "                                              Course  \\\n",
       "0                Electrical & Electronic Engineering   \n",
       "1                                         Psychology   \n",
       "2                                          Economics   \n",
       "3  Mass Communication (Communication and Language...   \n",
       "4                                         Statistics   \n",
       "\n",
       "                    Name_of_Institution Highest_Education_Level  \\\n",
       "0    Obafemi Awolowo University,Ile-Ife       Bachelor's degree   \n",
       "1    Obafemi Awolowo University,Ile-Ife       Bachelor's degree   \n",
       "2  Bells University of Technology, Otta       Bachelor's degree   \n",
       "3                 Bowen University, Iwo         Master's degree   \n",
       "4                Ekiti State University       Bachelor's degree   \n",
       "\n",
       "                         Current_Status  No_of_job_since_graduation  \\\n",
       "0   Working full time (paid employment)                           3   \n",
       "1   Working full time (paid employment)                           2   \n",
       "2   Working full time (paid employment)                           2   \n",
       "3  Self-employed/freelance/entrepreneur                           0   \n",
       "4   Working full time (paid employment)                           3   \n",
       "\n",
       "  NYSC_Status  NYSC_Completion_Year  ...        Preferred_Industry_Sector  \\\n",
       "0         NaN                   NaN  ...                      Engineering   \n",
       "1         Yes                2017.0  ...                            Media   \n",
       "2         Yes                   NaN  ...                       Consulting   \n",
       "3         Yes                   NaN  ...                              NaN   \n",
       "4         Yes                2016.0  ...  Advertising / Marketing / Comms   \n",
       "\n",
       "  Salary_Currency                            Employer_Desired_Traits  \\\n",
       "0           Naira                         No one thing was important   \n",
       "1           Naira  IT/SIWES/Internship experience (gained as part...   \n",
       "2           Naira                           The subject(s) I studied   \n",
       "3             NaN                                                NaN   \n",
       "4           Naira  IT/SIWES/Internship experience (gained as part...   \n",
       "\n",
       "                               Job_Discovery_Means  \\\n",
       "0                                       Internship   \n",
       "1                                       Internship   \n",
       "2                               Employer's website   \n",
       "3                                              NaN   \n",
       "4  Personal contacts, including family and friends   \n",
       "\n",
       "  Employed_before_Higher_Education_Degree            Transport_Means  \\\n",
       "0                                      No                        Bus   \n",
       "1                                      No                        BRT   \n",
       "2                                      No  Uber/Taxify/Taxi services   \n",
       "3                                     NaN                        NaN   \n",
       "4                                      No        Commercial Vehicles   \n",
       "\n",
       "  Car/Apartment_From_First_Job Course_Relevance_to_Employment  \\\n",
       "0       Yes: From my first job                             No   \n",
       "1      No: From my current job              Strongly Disagree   \n",
       "2      No: From my current job                       Disagree   \n",
       "3                          NaN                            NaN   \n",
       "4                           No                          Agree   \n",
       "\n",
       "  Course_Relevance_to_Further_Studies  \\\n",
       "0                                  No   \n",
       "1                               Agree   \n",
       "2                               Agree   \n",
       "3                                 NaN   \n",
       "4                               Agree   \n",
       "\n",
       "                        Skills_from_Higher_Education  \n",
       "0  Critical thinking skills, Ability to solve com...  \n",
       "1  Critical thinking skills, Ability to solve com...  \n",
       "2  Ability to work with others, Written communica...  \n",
       "3                                                NaN  \n",
       "4                           Critical thinking skills  \n",
       "\n",
       "[5 rows x 30 columns]"
      ]
     },
     "execution_count": 91,
     "metadata": {},
     "output_type": "execute_result"
    }
   ],
   "source": [
    "df.head()"
   ]
  },
  {
   "cell_type": "markdown",
   "id": "504f502b",
   "metadata": {},
   "source": [
    "### Finding and replacing NaN values with values where required"
   ]
  },
  {
   "cell_type": "code",
   "execution_count": 92,
   "id": "50e7fcfa",
   "metadata": {},
   "outputs": [
    {
     "data": {
      "text/plain": [
       "Gender\n",
       "False     5219\n",
       "dtype: int64"
      ]
     },
     "execution_count": 92,
     "metadata": {},
     "output_type": "execute_result"
    }
   ],
   "source": [
    "df[[\"Gender\"]].isna().value_counts()\n",
    "# Gender has no NaN values"
   ]
  },
  {
   "cell_type": "code",
   "execution_count": 93,
   "id": "dfedfe71",
   "metadata": {},
   "outputs": [
    {
     "data": {
      "text/plain": [
       "Graduation_year\n",
       "False              5219\n",
       "dtype: int64"
      ]
     },
     "execution_count": 93,
     "metadata": {},
     "output_type": "execute_result"
    }
   ],
   "source": [
    "df[[\"Graduation_year\"]].isna().value_counts()\n",
    "# Graduation_year has no NaN values"
   ]
  },
  {
   "cell_type": "code",
   "execution_count": 94,
   "id": "dc703938",
   "metadata": {},
   "outputs": [
    {
     "data": {
      "text/plain": [
       "Course\n",
       "False     5219\n",
       "dtype: int64"
      ]
     },
     "execution_count": 94,
     "metadata": {},
     "output_type": "execute_result"
    }
   ],
   "source": [
    "df[[\"Course\"]].isna().value_counts()\n",
    "# Course has no NaN values"
   ]
  },
  {
   "cell_type": "code",
   "execution_count": 95,
   "id": "aee96bac",
   "metadata": {},
   "outputs": [
    {
     "data": {
      "text/plain": [
       "Name_of_Institution\n",
       "False                  5219\n",
       "dtype: int64"
      ]
     },
     "execution_count": 95,
     "metadata": {},
     "output_type": "execute_result"
    }
   ],
   "source": [
    "df[[\"Name_of_Institution\"]].isna().value_counts()\n",
    "# Name_of_Institution has no NaN values"
   ]
  },
  {
   "cell_type": "code",
   "execution_count": 96,
   "id": "2f3db413",
   "metadata": {},
   "outputs": [
    {
     "data": {
      "text/plain": [
       "Highest_Education_Level\n",
       "False                      5219\n",
       "dtype: int64"
      ]
     },
     "execution_count": 96,
     "metadata": {},
     "output_type": "execute_result"
    }
   ],
   "source": [
    "df[[\"Highest_Education_Level\"]].isna().value_counts()\n",
    "# Highest_Education_Level has no NaN values"
   ]
  },
  {
   "cell_type": "code",
   "execution_count": 97,
   "id": "4076c2e1",
   "metadata": {
    "scrolled": true
   },
   "outputs": [
    {
     "data": {
      "text/plain": [
       "Current_Status\n",
       "False             5219\n",
       "dtype: int64"
      ]
     },
     "execution_count": 97,
     "metadata": {},
     "output_type": "execute_result"
    }
   ],
   "source": [
    "df[[\"Current_Status\"]].isna().value_counts()\n",
    "# Current_Status has no NaN values"
   ]
  },
  {
   "cell_type": "code",
   "execution_count": 98,
   "id": "9bf744d5",
   "metadata": {},
   "outputs": [
    {
     "data": {
      "text/plain": [
       "No_of_job_since_graduation\n",
       "False                         5219\n",
       "dtype: int64"
      ]
     },
     "execution_count": 98,
     "metadata": {},
     "output_type": "execute_result"
    }
   ],
   "source": [
    "df[[\"No_of_job_since_graduation\"]].isna().value_counts()\n",
    "# No_of_job_since_graduation has no NaN values"
   ]
  },
  {
   "cell_type": "code",
   "execution_count": 99,
   "id": "74ee022f",
   "metadata": {},
   "outputs": [],
   "source": [
    "df[[\"NYSC_Status\"]].isna().value_counts()\n",
    "# Job_Level has 1 NaN value\n",
    "\n",
    "df[\"NYSC_Status\"].fillna('Unknown', inplace = True)\n",
    "# Filling NaN value"
   ]
  },
  {
   "cell_type": "code",
   "execution_count": 100,
   "id": "e72c9418",
   "metadata": {},
   "outputs": [
    {
     "data": {
      "text/plain": [
       "Yes        3418\n",
       "No         1023\n",
       "Ongoing     777\n",
       "Unknown       1\n",
       "Name: NYSC_Status, dtype: int64"
      ]
     },
     "execution_count": 100,
     "metadata": {},
     "output_type": "execute_result"
    }
   ],
   "source": [
    "df[\"NYSC_Status\"].value_counts()"
   ]
  },
  {
   "cell_type": "code",
   "execution_count": 101,
   "id": "eaa97d09",
   "metadata": {},
   "outputs": [
    {
     "data": {
      "text/plain": [
       "NYSC_Completion_Year\n",
       "False                   4278\n",
       "True                     941\n",
       "dtype: int64"
      ]
     },
     "execution_count": 101,
     "metadata": {},
     "output_type": "execute_result"
    }
   ],
   "source": [
    "df[[\"NYSC_Completion_Year\"]].isna().value_counts()\n",
    "# NYSC_Completion_Year has 941 NaN value\n"
   ]
  },
  {
   "cell_type": "code",
   "execution_count": 102,
   "id": "89150650",
   "metadata": {},
   "outputs": [
    {
     "data": {
      "text/plain": [
       "Job_Through_NYSC\n",
       "False               5218\n",
       "True                   1\n",
       "dtype: int64"
      ]
     },
     "execution_count": 102,
     "metadata": {},
     "output_type": "execute_result"
    }
   ],
   "source": [
    "df[[\"Job_Through_NYSC\"]].isna().value_counts()\n",
    "# Job_Level has 1 NaN value"
   ]
  },
  {
   "cell_type": "code",
   "execution_count": 103,
   "id": "e7ef54f7",
   "metadata": {},
   "outputs": [
    {
     "data": {
      "text/plain": [
       "Job_Level\n",
       "True         3563\n",
       "False        1656\n",
       "dtype: int64"
      ]
     },
     "execution_count": 103,
     "metadata": {},
     "output_type": "execute_result"
    }
   ],
   "source": [
    "df[[\"Job_Level\"]].isna().value_counts()\n",
    "# Job_Level has 3563 NaN values"
   ]
  },
  {
   "cell_type": "code",
   "execution_count": 104,
   "id": "f93be538",
   "metadata": {},
   "outputs": [
    {
     "data": {
      "text/plain": [
       "Job_Role\n",
       "True        3565\n",
       "False       1654\n",
       "dtype: int64"
      ]
     },
     "execution_count": 104,
     "metadata": {},
     "output_type": "execute_result"
    }
   ],
   "source": [
    "df[[\"Job_Role\"]].isna().value_counts()\n",
    "# Job_Role has 3565 NaN values"
   ]
  },
  {
   "cell_type": "code",
   "execution_count": 105,
   "id": "ac467a86",
   "metadata": {},
   "outputs": [
    {
     "data": {
      "text/plain": [
       "Employer_Industry_Sector\n",
       "True                        3563\n",
       "False                       1656\n",
       "dtype: int64"
      ]
     },
     "execution_count": 105,
     "metadata": {},
     "output_type": "execute_result"
    }
   ],
   "source": [
    "df[[\"Employer_Industry_Sector\"]].isna().value_counts()\n",
    "# Employer_Industry_Sector has 3563 NaN values"
   ]
  },
  {
   "cell_type": "code",
   "execution_count": 106,
   "id": "f20c635d",
   "metadata": {},
   "outputs": [
    {
     "data": {
      "text/plain": [
       "Monthly_Income_Level\n",
       "True                    3563\n",
       "False                   1656\n",
       "dtype: int64"
      ]
     },
     "execution_count": 106,
     "metadata": {},
     "output_type": "execute_result"
    }
   ],
   "source": [
    "df[[\"Monthly_Income_Level\"]].isna().value_counts()\n",
    "# Monthly_Income_Level has 3563 NaN values"
   ]
  },
  {
   "cell_type": "code",
   "execution_count": 107,
   "id": "a599d3ff",
   "metadata": {},
   "outputs": [
    {
     "data": {
      "text/plain": [
       "Higher_Education_Qualification_Relevance_to_Job\n",
       "True                                               3563\n",
       "False                                              1656\n",
       "dtype: int64"
      ]
     },
     "execution_count": 107,
     "metadata": {},
     "output_type": "execute_result"
    }
   ],
   "source": [
    "df[[\"Higher_Education_Qualification_Relevance_to_Job\"]].isna().value_counts()\n",
    "# Higher_Education_Qualification_Relevance_to_Job has 3563 NaN values"
   ]
  },
  {
   "cell_type": "code",
   "execution_count": 108,
   "id": "658d0b88",
   "metadata": {},
   "outputs": [
    {
     "data": {
      "text/plain": [
       "Reason_to_take_First_Job\n",
       "True                        3563\n",
       "False                       1656\n",
       "dtype: int64"
      ]
     },
     "execution_count": 108,
     "metadata": {},
     "output_type": "execute_result"
    }
   ],
   "source": [
    "df[[\"Reason_to_take_First_Job\"]].isna().value_counts()\n",
    "# Reason_to_take_First_Job has 3563 NaN values"
   ]
  },
  {
   "cell_type": "code",
   "execution_count": 109,
   "id": "a439b5c9",
   "metadata": {},
   "outputs": [
    {
     "data": {
      "text/plain": [
       "What is your job role?\n",
       "False                     3431\n",
       "True                      1788\n",
       "dtype: int64"
      ]
     },
     "execution_count": 109,
     "metadata": {},
     "output_type": "execute_result"
    }
   ],
   "source": [
    "df[[\"What is your job role?\"]].isna().value_counts()\n",
    "# What is your job role?  has 1788 NaN values"
   ]
  },
  {
   "cell_type": "code",
   "execution_count": 110,
   "id": "e622ea6d",
   "metadata": {},
   "outputs": [
    {
     "data": {
      "text/plain": [
       "Best_Employer_For_Graduates\n",
       "False                          2958\n",
       "True                           2261\n",
       "dtype: int64"
      ]
     },
     "execution_count": 110,
     "metadata": {},
     "output_type": "execute_result"
    }
   ],
   "source": [
    "df[[\"Best_Employer_For_Graduates\"]].isna().value_counts()\n",
    "#  Best_Employer_For_Graduates  has 2261 NaN values"
   ]
  },
  {
   "cell_type": "code",
   "execution_count": 111,
   "id": "ac631b8b",
   "metadata": {},
   "outputs": [
    {
     "data": {
      "text/plain": [
       "Reason_for_Best_Employer\n",
       "False                       3109\n",
       "True                        2110\n",
       "dtype: int64"
      ]
     },
     "execution_count": 111,
     "metadata": {},
     "output_type": "execute_result"
    }
   ],
   "source": [
    "df[[\"Reason_for_Best_Employer\"]].isna().value_counts()\n",
    "# Reason_for_Best_Employer  has 2110 NaN values"
   ]
  },
  {
   "cell_type": "code",
   "execution_count": 112,
   "id": "e7ed9860",
   "metadata": {},
   "outputs": [
    {
     "data": {
      "text/plain": [
       "Preferred_Industry_Sector\n",
       "False                        3297\n",
       "True                         1922\n",
       "dtype: int64"
      ]
     },
     "execution_count": 112,
     "metadata": {},
     "output_type": "execute_result"
    }
   ],
   "source": [
    "df[[\"Preferred_Industry_Sector\"]].isna().value_counts()\n",
    "# Preferred_Industry_Sector has 1922 NaN values"
   ]
  },
  {
   "cell_type": "code",
   "execution_count": 113,
   "id": "480dbcdc",
   "metadata": {},
   "outputs": [
    {
     "data": {
      "text/plain": [
       "Salary_Currency\n",
       "False              3432\n",
       "True               1787\n",
       "dtype: int64"
      ]
     },
     "execution_count": 113,
     "metadata": {},
     "output_type": "execute_result"
    }
   ],
   "source": [
    "df[[\"Salary_Currency\"]].isna().value_counts()\n",
    "# Salary_Currency has 1787 NaN values"
   ]
  },
  {
   "cell_type": "code",
   "execution_count": 114,
   "id": "b2fbc964",
   "metadata": {},
   "outputs": [
    {
     "data": {
      "text/plain": [
       "Employer_Desired_Traits\n",
       "False                      3432\n",
       "True                       1787\n",
       "dtype: int64"
      ]
     },
     "execution_count": 114,
     "metadata": {},
     "output_type": "execute_result"
    }
   ],
   "source": [
    "df[[\"Employer_Desired_Traits\"]].isna().value_counts()\n",
    "# Employer_Desired_Traits  has 1787 NaN values"
   ]
  },
  {
   "cell_type": "code",
   "execution_count": 115,
   "id": "67128dc1",
   "metadata": {
    "scrolled": true
   },
   "outputs": [
    {
     "data": {
      "text/plain": [
       "Job_Discovery_Means\n",
       "False                  3432\n",
       "True                   1787\n",
       "dtype: int64"
      ]
     },
     "execution_count": 115,
     "metadata": {},
     "output_type": "execute_result"
    }
   ],
   "source": [
    "df[[\"Job_Discovery_Means\"]].isna().value_counts()\n",
    "# Job_Discovery_Means  has 1787 NaN values"
   ]
  },
  {
   "cell_type": "code",
   "execution_count": 116,
   "id": "9c31c55f",
   "metadata": {},
   "outputs": [
    {
     "data": {
      "text/plain": [
       "Employed_before_Higher_Education_Degree\n",
       "False                                      3432\n",
       "True                                       1787\n",
       "dtype: int64"
      ]
     },
     "execution_count": 116,
     "metadata": {},
     "output_type": "execute_result"
    }
   ],
   "source": [
    "df[[\"Employed_before_Higher_Education_Degree\"]].isna().value_counts()\n",
    "# Employed_before_Higher_Education_Degree has 1787 NaN values"
   ]
  },
  {
   "cell_type": "code",
   "execution_count": 117,
   "id": "b1e8550b",
   "metadata": {},
   "outputs": [
    {
     "data": {
      "text/plain": [
       "Transport_Means\n",
       "False              3432\n",
       "True               1787\n",
       "dtype: int64"
      ]
     },
     "execution_count": 117,
     "metadata": {},
     "output_type": "execute_result"
    }
   ],
   "source": [
    "df[[\"Transport_Means\"]].isna().value_counts()\n",
    "# Transport_Means has 1787 NaN values"
   ]
  },
  {
   "cell_type": "code",
   "execution_count": 118,
   "id": "cd1685e0",
   "metadata": {
    "scrolled": true
   },
   "outputs": [
    {
     "data": {
      "text/plain": [
       "Car/Apartment_From_First_Job\n",
       "False                           3432\n",
       "True                            1787\n",
       "dtype: int64"
      ]
     },
     "execution_count": 118,
     "metadata": {},
     "output_type": "execute_result"
    }
   ],
   "source": [
    "df[[\"Car/Apartment_From_First_Job\"]].isna().value_counts()\n",
    "# Car/Apartment_From_First_Job has 1787 NaN values"
   ]
  },
  {
   "cell_type": "code",
   "execution_count": 119,
   "id": "8782513c",
   "metadata": {
    "scrolled": true
   },
   "outputs": [
    {
     "data": {
      "text/plain": [
       "Course_Relevance_to_Employment\n",
       "False                             3432\n",
       "True                              1787\n",
       "dtype: int64"
      ]
     },
     "execution_count": 119,
     "metadata": {},
     "output_type": "execute_result"
    }
   ],
   "source": [
    "df[[\"Course_Relevance_to_Employment\"]].isna().value_counts()\n",
    "# Course_Relevance_to_Employment has 1787 NaN values"
   ]
  },
  {
   "cell_type": "code",
   "execution_count": 120,
   "id": "a62b3b1f",
   "metadata": {
    "scrolled": true
   },
   "outputs": [
    {
     "data": {
      "text/plain": [
       "Course_Relevance_to_Further_Studies\n",
       "False                                  3432\n",
       "True                                   1787\n",
       "dtype: int64"
      ]
     },
     "execution_count": 120,
     "metadata": {},
     "output_type": "execute_result"
    }
   ],
   "source": [
    "df[[\"Course_Relevance_to_Further_Studies\"]].isna().value_counts()\n",
    "# Course_Relevance_to_Further_Studies has 1787 NaN values"
   ]
  },
  {
   "cell_type": "code",
   "execution_count": 121,
   "id": "c20cc845",
   "metadata": {
    "scrolled": true
   },
   "outputs": [
    {
     "data": {
      "text/plain": [
       "Skills_from_Higher_Education\n",
       "False                           3432\n",
       "True                            1787\n",
       "dtype: int64"
      ]
     },
     "execution_count": 121,
     "metadata": {},
     "output_type": "execute_result"
    }
   ],
   "source": [
    "df[[\"Skills_from_Higher_Education\"]].isna().value_counts()\n",
    "# Skills_from_Higher_Education has 1787 NaN values"
   ]
  },
  {
   "cell_type": "code",
   "execution_count": null,
   "id": "4a4b3f35",
   "metadata": {},
   "outputs": [],
   "source": []
  },
  {
   "cell_type": "markdown",
   "id": "b148dc7d",
   "metadata": {},
   "source": [
    "### Formatting  columns"
   ]
  },
  {
   "cell_type": "code",
   "execution_count": null,
   "id": "b0143dbc",
   "metadata": {},
   "outputs": [],
   "source": []
  },
  {
   "cell_type": "code",
   "execution_count": 122,
   "id": "8a7931cc",
   "metadata": {},
   "outputs": [
    {
     "data": {
      "text/plain": [
       "Working full time (paid employment)                                                           1371\n",
       "Unemployed                                                                                    1233\n",
       "Youth Corper (NYSC)                                                                            842\n",
       "Self-employed/freelance/entrepreneur                                                           700\n",
       "Voluntary or other unpaid work or on an internship                                             417\n",
       "Engaged in full-time further study, training or research                                       167\n",
       "Due to start a job in the next month/developing a professional portfolio/creative practice     149\n",
       "Taking time out to prepare for further studies, GMAT, professional exams                       130\n",
       "Doing something else (e.g. looking after home or family)                                       127\n",
       "Engaged in part-time further study, training or research                                        83\n",
       "Name: Current_Status, dtype: int64"
      ]
     },
     "execution_count": 122,
     "metadata": {},
     "output_type": "execute_result"
    }
   ],
   "source": [
    "# Formating Current_Status Column\n",
    "df[\"Current_Status\"].value_counts()"
   ]
  },
  {
   "cell_type": "code",
   "execution_count": 123,
   "id": "0a3cc035",
   "metadata": {},
   "outputs": [],
   "source": [
    "df[\"Current_Status\"].replace([\"Working full time (paid employment)\",\n",
    "                              \"Youth Corper (NYSC)\",\n",
    "                              \"Self-employed/freelance/entrepreneur\",\n",
    "                             \"Voluntary or other unpaid work or on an internship\",\n",
    "                             \"Engaged in full-time further study, training or research\",\n",
    "                             \"Due to start a job in the next month/developing a professional portfolio/creative practice\",\n",
    "                             \"Taking time out to prepare for further studies, GMAT, professional exams\",\n",
    "                             \"Doing something else (e.g. looking after home or family)\",\n",
    "                             \"Engaged in part-time further study, training or research\"],\n",
    "                            [\"Paid Employment\",\n",
    "                             \"Youth Corper\",\n",
    "                            \"Self Employed\",\n",
    "                            \"Unpaid Employment\",\n",
    "                            \"Fulltime Further Study\",\n",
    "                            \"About to Resume a Job\",\n",
    "                            \"Preparing For Further Studies\",\n",
    "                            \"Something Else\",\n",
    "                            \"Part-time Further Studies\"], inplace = True)"
   ]
  },
  {
   "cell_type": "code",
   "execution_count": 124,
   "id": "db6e6912",
   "metadata": {},
   "outputs": [
    {
     "data": {
      "text/plain": [
       "Paid Employment                  1371\n",
       "Unemployed                       1233\n",
       "Youth Corper                      842\n",
       "Self Employed                     700\n",
       "Unpaid Employment                 417\n",
       "Fulltime Further Study            167\n",
       "About to Resume a Job             149\n",
       "Preparing For Further Studies     130\n",
       "Something Else                    127\n",
       "Part-time Further Studies          83\n",
       "Name: Current_Status, dtype: int64"
      ]
     },
     "execution_count": 124,
     "metadata": {},
     "output_type": "execute_result"
    }
   ],
   "source": [
    "df[\"Current_Status\"].value_counts()"
   ]
  },
  {
   "cell_type": "code",
   "execution_count": 125,
   "id": "1b3dea34",
   "metadata": {},
   "outputs": [
    {
     "data": {
      "text/plain": [
       "Yes        3418\n",
       "No         1023\n",
       "Ongoing     777\n",
       "Unknown       1\n",
       "Name: NYSC_Status, dtype: int64"
      ]
     },
     "execution_count": 125,
     "metadata": {},
     "output_type": "execute_result"
    }
   ],
   "source": [
    "# Formating NYSC_Status Column\n",
    "df[\"NYSC_Status\"].value_counts()"
   ]
  },
  {
   "cell_type": "code",
   "execution_count": 126,
   "id": "19ae8ef5",
   "metadata": {},
   "outputs": [],
   "source": [
    "df[\"NYSC_Status\"].replace([\"Yes\", \"No\"],[\"Completed\", \"Awaiting\"], inplace = True)"
   ]
  },
  {
   "cell_type": "code",
   "execution_count": 127,
   "id": "e2b51eff",
   "metadata": {},
   "outputs": [
    {
     "data": {
      "text/plain": [
       "Completed    3418\n",
       "Awaiting     1023\n",
       "Ongoing       777\n",
       "Unknown         1\n",
       "Name: NYSC_Status, dtype: int64"
      ]
     },
     "execution_count": 127,
     "metadata": {},
     "output_type": "execute_result"
    }
   ],
   "source": [
    "df[\"NYSC_Status\"].value_counts()"
   ]
  },
  {
   "cell_type": "code",
   "execution_count": 128,
   "id": "d2151520",
   "metadata": {},
   "outputs": [
    {
     "data": {
      "text/plain": [
       "No                              3561\n",
       "I have not completed my NYSC     860\n",
       "Yes                              797\n",
       "Name: Job_Through_NYSC, dtype: int64"
      ]
     },
     "execution_count": 128,
     "metadata": {},
     "output_type": "execute_result"
    }
   ],
   "source": [
    "# Formating Job_Through_NYSC\n",
    "df[\"Job_Through_NYSC\"].value_counts()"
   ]
  },
  {
   "cell_type": "code",
   "execution_count": 129,
   "id": "1ff23c7e",
   "metadata": {},
   "outputs": [],
   "source": [
    "df[\"Job_Through_NYSC\"].replace([\"I have not completed my NYSC\"],[\"NYSC Ongoing\"], inplace = True)"
   ]
  },
  {
   "cell_type": "code",
   "execution_count": 130,
   "id": "ffc515d7",
   "metadata": {},
   "outputs": [
    {
     "data": {
      "text/plain": [
       "No              3561\n",
       "NYSC Ongoing     860\n",
       "Yes              797\n",
       "Name: Job_Through_NYSC, dtype: int64"
      ]
     },
     "execution_count": 130,
     "metadata": {},
     "output_type": "execute_result"
    }
   ],
   "source": [
    "df[\"Job_Through_NYSC\"].value_counts()"
   ]
  },
  {
   "cell_type": "code",
   "execution_count": 131,
   "id": "bd8a43c2",
   "metadata": {},
   "outputs": [
    {
     "data": {
      "text/plain": [
       "Entry level                    1141\n",
       "Clerical and administrative     256\n",
       "Experience/Professional         206\n",
       "Managerial                       49\n",
       "Executive Director                3\n",
       "Experience                        1\n",
       "Name: Job_Level, dtype: int64"
      ]
     },
     "execution_count": 131,
     "metadata": {},
     "output_type": "execute_result"
    }
   ],
   "source": [
    "# Formating Job_Level\n",
    "df[\"Job_Level\"].value_counts()"
   ]
  },
  {
   "cell_type": "code",
   "execution_count": 132,
   "id": "7e0a4a2d",
   "metadata": {},
   "outputs": [],
   "source": [
    "df[\"Job_Level\"].replace([\"Experience/Professional\"],[\"Experience\"], inplace = True)"
   ]
  },
  {
   "cell_type": "code",
   "execution_count": 133,
   "id": "ce9ca15c",
   "metadata": {},
   "outputs": [
    {
     "data": {
      "text/plain": [
       "Entry level                    1141\n",
       "Clerical and administrative     256\n",
       "Experience                      207\n",
       "Managerial                       49\n",
       "Executive Director                3\n",
       "Name: Job_Level, dtype: int64"
      ]
     },
     "execution_count": 133,
     "metadata": {},
     "output_type": "execute_result"
    }
   ],
   "source": [
    "df[\"Job_Level\"].value_counts()"
   ]
  },
  {
   "cell_type": "code",
   "execution_count": 134,
   "id": "506cf3b9",
   "metadata": {
    "scrolled": true
   },
   "outputs": [
    {
     "data": {
      "text/plain": [
       "Yes: the qualification was a formal requirement                                          885\n",
       "No: the qualification was not required                                                   430\n",
       "Yes: while the qualification was not a formal requirement it did give me an advantage    305\n",
       "Don't know                                                                                36\n",
       "Name: Higher_Education_Qualification_Relevance_to_Job, dtype: int64"
      ]
     },
     "execution_count": 134,
     "metadata": {},
     "output_type": "execute_result"
    }
   ],
   "source": [
    "# Formating Higher_Education_Qualification_Relevance_to_Job\n",
    "df[\"Higher_Education_Qualification_Relevance_to_Job\"].value_counts()"
   ]
  },
  {
   "cell_type": "code",
   "execution_count": 135,
   "id": "1233bbe5",
   "metadata": {},
   "outputs": [],
   "source": [
    "df[\"Higher_Education_Qualification_Relevance_to_Job\"].replace([\"Yes: the qualification was a formal requirement\",\n",
    "                                                        \"No: the qualification was not required\",\n",
    "                                                        \"Yes: while the qualification was not a formal requirement it did give me an advantage\"],\n",
    "                                                        [\"Required\", \"Not Required\", \"Added Advantage\"], inplace = True)"
   ]
  },
  {
   "cell_type": "code",
   "execution_count": 136,
   "id": "9fc0cec9",
   "metadata": {},
   "outputs": [
    {
     "data": {
      "text/plain": [
       "Required           885\n",
       "Not Required       430\n",
       "Added Advantage    305\n",
       "Don't know          36\n",
       "Name: Higher_Education_Qualification_Relevance_to_Job, dtype: int64"
      ]
     },
     "execution_count": 136,
     "metadata": {},
     "output_type": "execute_result"
    }
   ],
   "source": [
    "df[\"Higher_Education_Qualification_Relevance_to_Job\"].value_counts()"
   ]
  },
  {
   "cell_type": "code",
   "execution_count": 137,
   "id": "67a4571c",
   "metadata": {
    "scrolled": true
   },
   "outputs": [
    {
     "data": {
      "text/plain": [
       "To gain and broaden my experience in order to get the type of job I really want    581\n",
       "It fitted into my career plan/it was exactly the type of work I wanted             299\n",
       "It was the only job offer I received                                               284\n",
       "In order to earn a living/pay off debts                                            211\n",
       "It was the best job offer I received                                               100\n",
       "To see if I would like the type of work it involved                                 78\n",
       "It was an opportunity to progress in the organisation                               67\n",
       "It was in the right location                                                        23\n",
       "The job was well-paid                                                               13\n",
       "Name: Reason_to_take_First_Job, dtype: int64"
      ]
     },
     "execution_count": 137,
     "metadata": {},
     "output_type": "execute_result"
    }
   ],
   "source": [
    "# Formating Reason_to_take_First_Job\n",
    "df[\"Reason_to_take_First_Job\"].value_counts()"
   ]
  },
  {
   "cell_type": "code",
   "execution_count": 138,
   "id": "bbed3d08",
   "metadata": {},
   "outputs": [],
   "source": [
    "df[\"Reason_to_take_First_Job\"].replace([\"To gain and broaden my experience in order to get the type of job I really want\",\n",
    "                                        \"It fitted into my career plan/it was exactly the type of work I wanted\",\n",
    "                                       \"It was the only job offer I received\",\n",
    "                                       \"In order to earn a living/pay off debts\",\n",
    "                                       \"It was the best job offer I received\",\n",
    "                                       \"To see if I would like the type of work it involved\",\n",
    "                                       \"It was an opportunity to progress in the organisation\",\n",
    "                                       \"It was in the right location\",\n",
    "                                       \"The job was well-paid\"],\n",
    "                                       [\"Gain Experience\",\n",
    "                                       \"Fits Career Plan\",\n",
    "                                       \"Only Job Offer\",\n",
    "                                       \"Earn a Living\",\n",
    "                                       \"Best Job Offer\",\n",
    "                                       \"Experimenting jobs\",\n",
    "                                       \"Great Organization\",\n",
    "                                       \"Proximity\",\n",
    "                                       \"Well Paid\"], inplace = True)"
   ]
  },
  {
   "cell_type": "code",
   "execution_count": 139,
   "id": "d279f3fc",
   "metadata": {
    "scrolled": true
   },
   "outputs": [
    {
     "data": {
      "text/plain": [
       "Gain Experience       581\n",
       "Fits Career Plan      299\n",
       "Only Job Offer        284\n",
       "Earn a Living         211\n",
       "Best Job Offer        100\n",
       "Experimenting jobs     78\n",
       "Great Organization     67\n",
       "Proximity              23\n",
       "Well Paid              13\n",
       "Name: Reason_to_take_First_Job, dtype: int64"
      ]
     },
     "execution_count": 139,
     "metadata": {},
     "output_type": "execute_result"
    }
   ],
   "source": [
    "df[\"Reason_to_take_First_Job\"].value_counts()"
   ]
  },
  {
   "cell_type": "code",
   "execution_count": 140,
   "id": "854a9abf",
   "metadata": {},
   "outputs": [
    {
     "data": {
      "text/plain": [
       "No                                                  2889\n",
       "Yes: during my higher education study                304\n",
       "Yes: before and during my higher education study     124\n",
       "Yes: before my higher education                      115\n",
       "Name: Employed_before_Higher_Education_Degree, dtype: int64"
      ]
     },
     "execution_count": 140,
     "metadata": {},
     "output_type": "execute_result"
    }
   ],
   "source": [
    "# Formating Employed_before_Higher_Education_Degree\n",
    "df[\"Employed_before_Higher_Education_Degree\"].value_counts()"
   ]
  },
  {
   "cell_type": "code",
   "execution_count": 141,
   "id": "aadb153d",
   "metadata": {},
   "outputs": [],
   "source": [
    "df[\"Employed_before_Higher_Education_Degree\"].replace([\"Yes: during my higher education study\",\n",
    "                                                      \"Yes: before and during my higher education study\",\n",
    "                                                      \"Yes: before my higher education\"], \n",
    "                                                      [\"Yes\", \"Yes\", \"Yes\"], inplace = True)"
   ]
  },
  {
   "cell_type": "code",
   "execution_count": 142,
   "id": "932edd5c",
   "metadata": {
    "scrolled": true
   },
   "outputs": [
    {
     "data": {
      "text/plain": [
       "No     2889\n",
       "Yes     543\n",
       "Name: Employed_before_Higher_Education_Degree, dtype: int64"
      ]
     },
     "execution_count": 142,
     "metadata": {},
     "output_type": "execute_result"
    }
   ],
   "source": [
    "df[\"Employed_before_Higher_Education_Degree\"].value_counts()"
   ]
  },
  {
   "cell_type": "code",
   "execution_count": 143,
   "id": "5027e1e4",
   "metadata": {
    "scrolled": true
   },
   "outputs": [
    {
     "data": {
      "text/plain": [
       "No                         2695\n",
       "No: From my current job     466\n",
       "Yes: From my first job      271\n",
       "Name: Car/Apartment_From_First_Job, dtype: int64"
      ]
     },
     "execution_count": 143,
     "metadata": {},
     "output_type": "execute_result"
    }
   ],
   "source": [
    "# Formating Car/Apartment_From_First_Job\n",
    "df[\"Car/Apartment_From_First_Job\"].value_counts()"
   ]
  },
  {
   "cell_type": "code",
   "execution_count": 144,
   "id": "579a1405",
   "metadata": {},
   "outputs": [],
   "source": [
    "df[\"Car/Apartment_From_First_Job\"].replace([\"No: From my current job\",\n",
    "                                            \"Yes: From my first job\"],\n",
    "                                            [\"Yes\", \"Yes\"], inplace = True)"
   ]
  },
  {
   "cell_type": "code",
   "execution_count": 145,
   "id": "baa3db55",
   "metadata": {
    "scrolled": true
   },
   "outputs": [
    {
     "data": {
      "text/plain": [
       "No     2695\n",
       "Yes     737\n",
       "Name: Car/Apartment_From_First_Job, dtype: int64"
      ]
     },
     "execution_count": 145,
     "metadata": {},
     "output_type": "execute_result"
    }
   ],
   "source": [
    "df[\"Car/Apartment_From_First_Job\"].value_counts()"
   ]
  },
  {
   "cell_type": "code",
   "execution_count": 146,
   "id": "e8ce6ce5",
   "metadata": {
    "scrolled": false
   },
   "outputs": [
    {
     "data": {
      "text/plain": [
       "Agree                1574\n",
       "Strongly Agree        808\n",
       "Disagree              640\n",
       "Strongly Disagree     409\n",
       "No                      1\n",
       "Name: Course_Relevance_to_Employment, dtype: int64"
      ]
     },
     "execution_count": 146,
     "metadata": {},
     "output_type": "execute_result"
    }
   ],
   "source": [
    "# Formating Course_Relevance_to_Employment\n",
    "df[\"Course_Relevance_to_Employment\"].value_counts()"
   ]
  },
  {
   "cell_type": "code",
   "execution_count": 147,
   "id": "afbc17ef",
   "metadata": {},
   "outputs": [],
   "source": [
    "df[\"Course_Relevance_to_Employment\"].replace([\"Agree\", \"Strongly Agree\", \"Disagree\", \"Strongly Disagree\", \"No\"],\n",
    "                                            [\"Important\", \"Very Important\", \"Not Important\", \"No Relevance\", \"Not Important\"], inplace = True)"
   ]
  },
  {
   "cell_type": "code",
   "execution_count": 148,
   "id": "4a952df5",
   "metadata": {},
   "outputs": [
    {
     "data": {
      "text/plain": [
       "Important         1574\n",
       "Very Important     808\n",
       "Not Important      641\n",
       "No Relevance       409\n",
       "Name: Course_Relevance_to_Employment, dtype: int64"
      ]
     },
     "execution_count": 148,
     "metadata": {},
     "output_type": "execute_result"
    }
   ],
   "source": [
    "df[\"Course_Relevance_to_Employment\"].value_counts()"
   ]
  },
  {
   "cell_type": "code",
   "execution_count": 149,
   "id": "9c5f38e1",
   "metadata": {},
   "outputs": [
    {
     "data": {
      "text/plain": [
       "Agree                1687\n",
       "Strongly Agree       1293\n",
       "Disagree              292\n",
       "Strongly Disagree     159\n",
       "No                      1\n",
       "Name: Course_Relevance_to_Further_Studies, dtype: int64"
      ]
     },
     "execution_count": 149,
     "metadata": {},
     "output_type": "execute_result"
    }
   ],
   "source": [
    "# Formating Course_Relevance_to_Further_Studies\n",
    "df[\"Course_Relevance_to_Further_Studies\"].value_counts()"
   ]
  },
  {
   "cell_type": "code",
   "execution_count": 150,
   "id": "cc526676",
   "metadata": {},
   "outputs": [],
   "source": [
    "df[\"Course_Relevance_to_Further_Studies\"].replace([\"Agree\", \"Strongly Agree\", \"Disagree\", \"Strongly Disagree\", \"No\"],\n",
    "                                            [\"Important\", \"Very Important\", \"Not Important\", \"No Relevance\", \"Not Important\"], inplace = True)"
   ]
  },
  {
   "cell_type": "code",
   "execution_count": 151,
   "id": "28189793",
   "metadata": {
    "scrolled": true
   },
   "outputs": [
    {
     "data": {
      "text/plain": [
       "Important         1687\n",
       "Very Important    1293\n",
       "Not Important      293\n",
       "No Relevance       159\n",
       "Name: Course_Relevance_to_Further_Studies, dtype: int64"
      ]
     },
     "execution_count": 151,
     "metadata": {},
     "output_type": "execute_result"
    }
   ],
   "source": [
    "df[\"Course_Relevance_to_Further_Studies\"].value_counts()"
   ]
  },
  {
   "cell_type": "code",
   "execution_count": null,
   "id": "f3d08f79",
   "metadata": {},
   "outputs": [],
   "source": []
  },
  {
   "cell_type": "markdown",
   "id": "72d5344a",
   "metadata": {},
   "source": [
    "## Basic Questions"
   ]
  },
  {
   "cell_type": "markdown",
   "id": "e2e9db2d",
   "metadata": {},
   "source": [
    "### What are the top 5 institutions with graduates?"
   ]
  },
  {
   "cell_type": "code",
   "execution_count": 152,
   "id": "89e88594",
   "metadata": {},
   "outputs": [
    {
     "data": {
      "text/plain": [
       "University of Lagos                   527\n",
       "Covenant University Ota               432\n",
       "Obafemi Awolowo University,Ile-Ife    326\n",
       "Babcock University,Ilishan-Remo       213\n",
       "University of Nigeria, Nsukka         208\n",
       "Name: Name_of_Institution, dtype: int64"
      ]
     },
     "execution_count": 152,
     "metadata": {},
     "output_type": "execute_result"
    }
   ],
   "source": [
    "df['Name_of_Institution'].value_counts().sort_values(ascending = False).head(5)"
   ]
  },
  {
   "cell_type": "code",
   "execution_count": null,
   "id": "b11ad2ae",
   "metadata": {},
   "outputs": [],
   "source": []
  },
  {
   "cell_type": "markdown",
   "id": "fbec1c18",
   "metadata": {},
   "source": [
    "### What are the top 5 courses students of choice?"
   ]
  },
  {
   "cell_type": "code",
   "execution_count": 153,
   "id": "aff5f9a8",
   "metadata": {},
   "outputs": [
    {
     "data": {
      "text/plain": [
       "Computer Science                                        459\n",
       "Accountancy                                             373\n",
       "Economics                                               321\n",
       "Electrical & Electronic Engineering                     214\n",
       "Mass Communication (Communication and Language Arts)    204\n",
       "Name: Course, dtype: int64"
      ]
     },
     "execution_count": 153,
     "metadata": {},
     "output_type": "execute_result"
    }
   ],
   "source": [
    "df['Course'].value_counts().sort_values(ascending = False).head(5)"
   ]
  },
  {
   "cell_type": "code",
   "execution_count": null,
   "id": "ac5116f9",
   "metadata": {},
   "outputs": [],
   "source": []
  },
  {
   "cell_type": "markdown",
   "id": "da655ec2",
   "metadata": {},
   "source": [
    "### How many graduates get their jobs through NYSC"
   ]
  },
  {
   "cell_type": "code",
   "execution_count": 154,
   "id": "96874e41",
   "metadata": {
    "scrolled": true
   },
   "outputs": [
    {
     "data": {
      "text/plain": [
       "Yes    797\n",
       "Name: Job_Through_NYSC, dtype: int64"
      ]
     },
     "execution_count": 154,
     "metadata": {},
     "output_type": "execute_result"
    }
   ],
   "source": [
    "df[df['Job_Through_NYSC'] == 'Yes']['Job_Through_NYSC'].value_counts()"
   ]
  },
  {
   "cell_type": "code",
   "execution_count": null,
   "id": "a8b24077",
   "metadata": {},
   "outputs": [],
   "source": []
  },
  {
   "cell_type": "code",
   "execution_count": null,
   "id": "5beec534",
   "metadata": {},
   "outputs": [],
   "source": []
  },
  {
   "cell_type": "markdown",
   "id": "f1926c88",
   "metadata": {},
   "source": [
    "# Creating New Features"
   ]
  },
  {
   "cell_type": "markdown",
   "id": "2a016b84",
   "metadata": {},
   "source": [
    "#### This new column shows graduates with distribution due to minimum wage"
   ]
  },
  {
   "cell_type": "code",
   "execution_count": 155,
   "id": "0415d69c",
   "metadata": {},
   "outputs": [],
   "source": [
    "df[\"Salary_Level\"] = df[\"Monthly_Income_Level\"]"
   ]
  },
  {
   "cell_type": "code",
   "execution_count": 156,
   "id": "a980a4b1",
   "metadata": {},
   "outputs": [],
   "source": [
    "df[\"Salary_Level\"].replace(['‎₦20,000 - ‎₦49,999',\n",
    "                            \"‎₦50,000 - ‎₦99,999\",\n",
    "                           \"‎₦100,000 - ‎₦149,999\",\n",
    "                           \"‎₦150,000 - ‎₦199,999\",\n",
    "                           \"‎₦200,000 - ‎₦249,999\",\n",
    "                           \"‎₦250,000 and more\",\n",
    "                           \"Under ‎₦20,000\"],\n",
    "                          [\"Above Minimum Wage\",\n",
    "                          \"Above Minimum Wage\",\n",
    "                          \"Above Minimum Wage\",\n",
    "                          \"Above Minimum Wage\",\n",
    "                          \"Above Minimum Wage\",\n",
    "                          \"Above Minimum Wage\",\n",
    "                          \"Below Minimum Wage\"], inplace = True)"
   ]
  },
  {
   "cell_type": "code",
   "execution_count": 157,
   "id": "a5298f65",
   "metadata": {},
   "outputs": [
    {
     "data": {
      "text/plain": [
       "Above Minimum Wage    1307\n",
       "Below Minimum Wage     349\n",
       "Name: Salary_Level, dtype: int64"
      ]
     },
     "execution_count": 157,
     "metadata": {},
     "output_type": "execute_result"
    }
   ],
   "source": [
    "df[\"Salary_Level\"].value_counts()"
   ]
  },
  {
   "cell_type": "code",
   "execution_count": 165,
   "id": "145f1a1a",
   "metadata": {
    "scrolled": true
   },
   "outputs": [
    {
     "data": {
      "image/png": "[encoded data removed]",
      "text/plain": [
       "<Figure size 432x432 with 1 Axes>"
      ]
     },
     "metadata": {},
     "output_type": "display_data"
    }
   ],
   "source": [
    "# Using matplotlib to create a pie chart of salary level\n",
    "plt.figure(figsize = (6,6))\n",
    "labels = [\"Below Minimum Wage\", \"Above Minimum Wage\"]\n",
    "colors = [\"#355070\", \"#6d597a\"]\n",
    "df[\"Salary_Level\"].value_counts().plot(kind = \"pie\", colors = colors, labels = labels, autopct = \"%1.0f%%\")\n",
    "plt.show()"
   ]
  },
  {
   "cell_type": "code",
   "execution_count": 170,
   "id": "513719af",
   "metadata": {},
   "outputs": [
    {
     "data": {
      "text/plain": [
       "0    1787\n",
       "Name: No_of_job_since_graduation, dtype: int64"
      ]
     },
     "execution_count": 170,
     "metadata": {},
     "output_type": "execute_result"
    }
   ],
   "source": [
    "# No. of graduates without job experience since graduation\n",
    "df[df[\"No_of_job_since_graduation\"] == 0][\"No_of_job_since_graduation\"].value_counts()"
   ]
  },
  {
   "cell_type": "code",
   "execution_count": null,
   "id": "25d9ae01",
   "metadata": {},
   "outputs": [],
   "source": []
  },
  {
   "cell_type": "markdown",
   "id": "2abc6d67",
   "metadata": {},
   "source": [
    "### Using seaborn to show distributions "
   ]
  },
  {
   "cell_type": "code",
   "execution_count": 188,
   "id": "7acdb7d3",
   "metadata": {
    "scrolled": false
   },
   "outputs": [
    {
     "data": {
      "text/plain": [
       "<AxesSubplot:xlabel='Gender', ylabel='count'>"
      ]
     },
     "execution_count": 188,
     "metadata": {},
     "output_type": "execute_result"
    },
    {
     "data": {
      "image/png": "[encoded data removed]",
      "text/plain": [
       "<Figure size 648x432 with 1 Axes>"
      ]
     },
     "metadata": {},
     "output_type": "display_data"
    }
   ],
   "source": [
    "plt.figure(figsize= (9,6))\n",
    "sns.set_theme(style=\"darkgrid\")\n",
    "sns.set_palette(\"dark\")\n",
    "sns.countplot(data = df, x = \"Gender\")\n"
   ]
  },
  {
   "cell_type": "code",
   "execution_count": 212,
   "id": "b0896851",
   "metadata": {
    "scrolled": true
   },
   "outputs": [
    {
     "data": {
      "text/plain": [
       "Text(97.0, 0.5, 'No. of Graduates')"
      ]
     },
     "execution_count": 212,
     "metadata": {},
     "output_type": "execute_result"
    },
    {
     "data": {
      "image/png": "[encoded data removed]",
      "text/plain": [
       "<Figure size 1080x288 with 1 Axes>"
      ]
     },
     "metadata": {},
     "output_type": "display_data"
    }
   ],
   "source": [
    "plt.figure(figsize= (15,4))\n",
    "sns.countplot(data = df, x = \"Highest_Education_Level\", hue = \"Gender\")\n",
    "plt.tight_layout()\n",
    "plt.xlabel(\"Highest_Education_Level\", labelpad = 50)\n",
    "plt.ylabel(\"No. of Graduates\", labelpad = 50)"
   ]
  },
  {
   "cell_type": "code",
   "execution_count": 220,
   "id": "b17f18c0",
   "metadata": {
    "scrolled": true
   },
   "outputs": [
    {
     "data": {
      "text/plain": [
       "Computer Science                                        459\n",
       "Accountancy                                             373\n",
       "Economics                                               321\n",
       "Electrical & Electronic Engineering                     214\n",
       "Mass Communication (Communication and Language Arts)    204\n",
       "                                                       ... \n",
       "Music                                                     1\n",
       "Department of Pharmacology and Toxicology                 1\n",
       "Child Dental Health                                       1\n",
       "Archeology and Tourism                                    1\n",
       "Igbo Linguistics                                          1\n",
       "Name: Course, Length: 127, dtype: int64"
      ]
     },
     "execution_count": 220,
     "metadata": {},
     "output_type": "execute_result"
    }
   ],
   "source": [
    "df[\"Course\"].value_counts()"
   ]
  },
  {
   "cell_type": "code",
   "execution_count": 213,
   "id": "275c1a21",
   "metadata": {},
   "outputs": [
    {
     "name": "stdout",
     "output_type": "stream",
     "text": [
      "<class 'pandas.core.frame.DataFrame'>\n",
      "RangeIndex: 5219 entries, 0 to 5218\n",
      "Data columns (total 31 columns):\n",
      " #   Column                                           Non-Null Count  Dtype  \n",
      "---  ------                                           --------------  -----  \n",
      " 0   Timestamp                                        5219 non-null   object \n",
      " 1   Gender                                           5219 non-null   object \n",
      " 2   Graduation_year                                  5219 non-null   int64  \n",
      " 3   Course                                           5219 non-null   object \n",
      " 4   Name_of_Institution                              5219 non-null   object \n",
      " 5   Highest_Education_Level                          5219 non-null   object \n",
      " 6   Current_Status                                   5219 non-null   object \n",
      " 7   No_of_job_since_graduation                       5219 non-null   int64  \n",
      " 8   NYSC_Status                                      5219 non-null   object \n",
      " 9   NYSC_Completion_Year                             4278 non-null   float64\n",
      " 10  Job_Through_NYSC                                 5218 non-null   object \n",
      " 11  Job_Level                                        1656 non-null   object \n",
      " 12  Job_Role                                         1654 non-null   object \n",
      " 13  Employer_Industry_Sector                         1656 non-null   object \n",
      " 14  Monthly_Income_Level                             1656 non-null   object \n",
      " 15  Higher_Education_Qualification_Relevance_to_Job  1656 non-null   object \n",
      " 16  Reason_to_take_First_Job                         1656 non-null   object \n",
      " 17  What is your job role?                           3431 non-null   object \n",
      " 18  Best_Employer_For_Graduates                      2958 non-null   object \n",
      " 19  Reason_for_Best_Employer                         3109 non-null   object \n",
      " 20  Preferred_Industry_Sector                        3297 non-null   object \n",
      " 21  Salary_Currency                                  3432 non-null   object \n",
      " 22  Employer_Desired_Traits                          3432 non-null   object \n",
      " 23  Job_Discovery_Means                              3432 non-null   object \n",
      " 24  Employed_before_Higher_Education_Degree          3432 non-null   object \n",
      " 25  Transport_Means                                  3432 non-null   object \n",
      " 26  Car/Apartment_From_First_Job                     3432 non-null   object \n",
      " 27  Course_Relevance_to_Employment                   3432 non-null   object \n",
      " 28  Course_Relevance_to_Further_Studies              3432 non-null   object \n",
      " 29  Skills_from_Higher_Education                     3432 non-null   object \n",
      " 30  Salary_Level                                     1656 non-null   object \n",
      "dtypes: float64(1), int64(2), object(28)\n",
      "memory usage: 1.2+ MB\n"
     ]
    }
   ],
   "source": [
    "df.info()"
   ]
  },
  {
   "cell_type": "code",
   "execution_count": null,
   "id": "329b05b4",
   "metadata": {},
   "outputs": [],
   "source": []
  },
  {
   "cell_type": "code",
   "execution_count": null,
   "id": "f63afa08",
   "metadata": {
    "scrolled": true
   },
   "outputs": [],
   "source": []
  },
  {
   "cell_type": "code",
   "execution_count": 159,
   "id": "d6976cbd",
   "metadata": {},
   "outputs": [
    {
     "data": {
      "text/plain": [
       "Monthly_Income_Level \n",
       "‎₦20,000 - ‎₦49,999      709\n",
       "‎₦50,000 - ‎₦99,999      425\n",
       "Under ‎₦20,000           349\n",
       "‎₦100,000 - ‎₦149,999     94\n",
       "‎₦150,000 - ‎₦199,999     44\n",
       "‎₦250,000 and more        20\n",
       "‎₦200,000 - ‎₦249,999     15\n",
       "dtype: int64"
      ]
     },
     "execution_count": 159,
     "metadata": {},
     "output_type": "execute_result"
    }
   ],
   "source": [
    "df[[\"Monthly_Income_Level\"]].value_counts().sort_values(ascending = False)"
   ]
  },
  {
   "cell_type": "code",
   "execution_count": 160,
   "id": "3b5ea49c",
   "metadata": {},
   "outputs": [
    {
     "data": {
      "text/plain": [
       "<bound method _AxesBase.invert_yaxis of <AxesSubplot:xlabel='Monthly_Income_Level', ylabel='count'>>"
      ]
     },
     "execution_count": 160,
     "metadata": {},
     "output_type": "execute_result"
    },
    {
     "data": {
      "image/png": "[encoded data removed]",
      "text/plain": [
       "<Figure size 720x576 with 1 Axes>"
      ]
     },
     "metadata": {
      "needs_background": "light"
     },
     "output_type": "display_data"
    }
   ],
   "source": [
    "plt.figure(figsize =(10,8))\n",
    "sns.countplot(data = df, x=\"Monthly_Income_Level\", hue = \"Gender\")\n",
    "plt.gca().invert_yaxis"
   ]
  },
  {
   "cell_type": "code",
   "execution_count": null,
   "id": "e535c683",
   "metadata": {},
   "outputs": [],
   "source": []
  }
 ],
 "metadata": {
  "kernelspec": {
   "display_name": "Python 3 (ipykernel)",
   "language": "python",
   "name": "python3"
  },
  "language_info": {
   "codemirror_mode": {
    "name": "ipython",
    "version": 3
   },
   "file_extension": ".py",
   "mimetype": "text/x-python",
   "name": "python",
   "nbconvert_exporter": "python",
   "pygments_lexer": "ipython3",
   "version": "3.9.12"
  }
 },
 "nbformat": 4,
 "nbformat_minor": 5
}
